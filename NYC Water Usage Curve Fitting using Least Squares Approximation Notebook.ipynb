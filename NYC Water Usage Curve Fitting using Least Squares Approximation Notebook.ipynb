{
 "cells": [
  {
   "cell_type": "markdown",
   "metadata": {},
   "source": [
    "# *NYC Water Usage Curve Fitting using Least Squares Approximation*"
   ]
  },
  {
   "cell_type": "markdown",
   "metadata": {},
   "source": [
    "**By: NISHANTH PRAJITH**"
   ]
  },
  {
   "cell_type": "markdown",
   "metadata": {},
   "source": [
    "## Data Source"
   ]
  },
  {
   "cell_type": "markdown",
   "metadata": {},
   "source": [
    "<p style=\"text-align: justify;\">The data source is downloaded from the NYC Open Data website[1] which is a free data distrubution platform published by NYC agencies and its partners. The data is information about the Water consumption in New York City. It has information about the population of new york city, total consumption per day and gallon per person per day. I will be using all the datasets and try to fit it to a curve. This data is particulary interesting because it shows how water consumption in a major city in the US has changed every year with the change in population in the city. It helps give a sense of how much water we use as human beings and how that trend shall change throughout the years to come.</p>"
   ]
  },
  {
   "cell_type": "markdown",
   "metadata": {},
   "source": [
    "## Goals"
   ]
  },
  {
   "cell_type": "markdown",
   "metadata": {},
   "source": [
    "<p style=\"text-align: justify;\">In this notebook I will try to write a class that generalize the least squares approximation to a certain degree of percision. This will help ensure that with any sets of data, the least squares approximation is easily avaliable rather than having to calculate it out for each dataset and each degree of polynomial. In addition, I will try to see if the increase in population resulted in the increase in water consumption or decrease in it.</p>"
   ]
  },
  {
   "cell_type": "markdown",
   "metadata": {},
   "source": [
    "## Importing Data"
   ]
  },
  {
   "cell_type": "code",
   "execution_count": 1,
   "metadata": {},
   "outputs": [],
   "source": [
    "import numpy as np # Module used for use of matricies and matrix related calculations\n",
    "import matplotlib.pyplot as plt # Module for plotting the data\n",
    "import pandas as pd # Module that makes it easier for read .csv file and analyzing them."
   ]
  },
  {
   "cell_type": "code",
   "execution_count": 2,
   "metadata": {},
   "outputs": [],
   "source": [
    "# The CSV file data is imported and stored in the pandas DataFrame object called 'df'\n",
    "df = pd.read_csv(\"Water_Consumption_In_NYC.csv\")"
   ]
  },
  {
   "cell_type": "code",
   "execution_count": 3,
   "metadata": {},
   "outputs": [
    {
     "data": {
      "text/html": [
       "<div>\n",
       "<style scoped>\n",
       "    .dataframe tbody tr th:only-of-type {\n",
       "        vertical-align: middle;\n",
       "    }\n",
       "\n",
       "    .dataframe tbody tr th {\n",
       "        vertical-align: top;\n",
       "    }\n",
       "\n",
       "    .dataframe thead th {\n",
       "        text-align: right;\n",
       "    }\n",
       "</style>\n",
       "<table border=\"1\" class=\"dataframe\">\n",
       "  <thead>\n",
       "    <tr style=\"text-align: right;\">\n",
       "      <th></th>\n",
       "      <th>Year</th>\n",
       "      <th>New York City Population</th>\n",
       "      <th>NYC Consumption(Million gallons per day)</th>\n",
       "      <th>Per Capita(Gallons per person per day)</th>\n",
       "    </tr>\n",
       "  </thead>\n",
       "  <tbody>\n",
       "    <tr>\n",
       "      <th>0</th>\n",
       "      <td>1979</td>\n",
       "      <td>7102100.0</td>\n",
       "      <td>1512.0</td>\n",
       "      <td>213</td>\n",
       "    </tr>\n",
       "    <tr>\n",
       "      <th>1</th>\n",
       "      <td>1980</td>\n",
       "      <td>7071639.0</td>\n",
       "      <td>1506.0</td>\n",
       "      <td>213</td>\n",
       "    </tr>\n",
       "    <tr>\n",
       "      <th>2</th>\n",
       "      <td>1981</td>\n",
       "      <td>7089241.0</td>\n",
       "      <td>1309.0</td>\n",
       "      <td>185</td>\n",
       "    </tr>\n",
       "    <tr>\n",
       "      <th>3</th>\n",
       "      <td>1982</td>\n",
       "      <td>7109105.0</td>\n",
       "      <td>1382.0</td>\n",
       "      <td>194</td>\n",
       "    </tr>\n",
       "    <tr>\n",
       "      <th>4</th>\n",
       "      <td>1983</td>\n",
       "      <td>7181224.0</td>\n",
       "      <td>1424.0</td>\n",
       "      <td>198</td>\n",
       "    </tr>\n",
       "    <tr>\n",
       "      <th>5</th>\n",
       "      <td>1984</td>\n",
       "      <td>7234514.0</td>\n",
       "      <td>1465.0</td>\n",
       "      <td>203</td>\n",
       "    </tr>\n",
       "    <tr>\n",
       "      <th>6</th>\n",
       "      <td>1985</td>\n",
       "      <td>7274054.0</td>\n",
       "      <td>1326.0</td>\n",
       "      <td>182</td>\n",
       "    </tr>\n",
       "    <tr>\n",
       "      <th>7</th>\n",
       "      <td>1986</td>\n",
       "      <td>7319246.0</td>\n",
       "      <td>1351.0</td>\n",
       "      <td>185</td>\n",
       "    </tr>\n",
       "    <tr>\n",
       "      <th>8</th>\n",
       "      <td>1987</td>\n",
       "      <td>7342476.0</td>\n",
       "      <td>1447.0</td>\n",
       "      <td>197</td>\n",
       "    </tr>\n",
       "    <tr>\n",
       "      <th>9</th>\n",
       "      <td>1988</td>\n",
       "      <td>7353719.0</td>\n",
       "      <td>1484.0</td>\n",
       "      <td>202</td>\n",
       "    </tr>\n",
       "  </tbody>\n",
       "</table>\n",
       "</div>"
      ],
      "text/plain": [
       "   Year  New York City Population  NYC Consumption(Million gallons per day)  \\\n",
       "0  1979                 7102100.0                                    1512.0   \n",
       "1  1980                 7071639.0                                    1506.0   \n",
       "2  1981                 7089241.0                                    1309.0   \n",
       "3  1982                 7109105.0                                    1382.0   \n",
       "4  1983                 7181224.0                                    1424.0   \n",
       "5  1984                 7234514.0                                    1465.0   \n",
       "6  1985                 7274054.0                                    1326.0   \n",
       "7  1986                 7319246.0                                    1351.0   \n",
       "8  1987                 7342476.0                                    1447.0   \n",
       "9  1988                 7353719.0                                    1484.0   \n",
       "\n",
       "   Per Capita(Gallons per person per day)  \n",
       "0                                     213  \n",
       "1                                     213  \n",
       "2                                     185  \n",
       "3                                     194  \n",
       "4                                     198  \n",
       "5                                     203  \n",
       "6                                     182  \n",
       "7                                     185  \n",
       "8                                     197  \n",
       "9                                     202  "
      ]
     },
     "execution_count": 3,
     "metadata": {},
     "output_type": "execute_result"
    }
   ],
   "source": [
    "df.head(10) # Simple check to see if the csv has been imported correctly"
   ]
  },
  {
   "cell_type": "markdown",
   "metadata": {},
   "source": [
    "## Analyze the Data"
   ]
  },
  {
   "cell_type": "code",
   "execution_count": 4,
   "metadata": {},
   "outputs": [],
   "source": [
    "class MyProgram:\n",
    "    def __init__(self, degreesOfPercision, x, actualData, xlabel, ylabel): \n",
    "        '''\n",
    "            Constructor that initializes all the variables for future calculations.\n",
    "        '''\n",
    "        self.xlabel = xlabel\n",
    "        self.ylabel = ylabel\n",
    "        self.degreesOfPercision = degreesOfPercision\n",
    "        self.xValues = np.array(x) # X values of the dataset\n",
    "        self.actualData = actualData # Actual values or Y values of the dataset\n",
    "        self.Identity = np.identity(self.degreesOfPercision, dtype = int) # Natural basis coefficients for the space 𝑊\n",
    "        # Natural basis vectors for the space 𝑊\n",
    "        self.w_vectors = np.array([[0 for i in range(len(self.xValues))] for j in range(self.degreesOfPercision)], dtype = float)\n",
    "        # Orthogonal basis coefficients for space W\n",
    "        self.y_vectors = np.array([[0 for i in range(len(self.xValues))] for j in range(self.degreesOfPercision)], dtype = float)\n",
    "        # Orthogonal basis vectors for space W\n",
    "        self.y_coef = np.array([[0 for i in range(self.degreesOfPercision)] for j in range(self.degreesOfPercision)], dtype = float)\n",
    "        # Projection coefficients of the orthogonal basis projected on to sample W\n",
    "        self.projCoef = np.array([0 for i in range(self.degreesOfPercision)], dtype = float)\n",
    "        \n",
    "    def __function__(self, constants, x):\n",
    "        '''\n",
    "            Function that takes in constants vector and an x value integer thats returns the value tabulated by a polynomial of the form:\n",
    "            F(x) = a + bx^2 + cx^3 + dx^4 + ...\n",
    "            (Here a, b, c, d are values from the constants a is the 1st constant, b is the 2nd, c is the 3rd, etc..)\n",
    "            ---\n",
    "            Returns an int\n",
    "            ---\n",
    "        '''\n",
    "        answer = 0\n",
    "        for i in range(len(constants)):\n",
    "            # Loops through all the values inside the constants vector and calculate the values of the polynomial function\n",
    "            answer += constants[i] * (x ** i)\n",
    "        return answer\n",
    "    \n",
    "    def __coefficients_to_vector__(self, constants):\n",
    "        '''\n",
    "            Returns a numpy array that loops through all the X values in the dataset and adds the value returned by the\n",
    "            polynomial function ('def __function__') into a numpy array (which is later returned).\n",
    "            ---\n",
    "            Returns a numpy array\n",
    "            ---\n",
    "        '''\n",
    "        return_list = []\n",
    "        for year in self.xValues:\n",
    "            # Loops throguh all the values in the X values of the dataset and runs the '__function__' on each value.\n",
    "            # The return value of '__function__' is then stored inside an array\n",
    "            return_list.append(self.__function__(constants, year))\n",
    "        return np.array(return_list) # Returns as a numpy array\n",
    "    \n",
    "    def calculate_W_Vectors(self):\n",
    "        '''\n",
    "            Calculates the values in the Natural basis vectors for the space 𝑊. \n",
    "            The function calls the '__coefficients_to_vector__' function and stores the data inside of w_vectors numpy array.\n",
    "            The calculation is done by using all the value inside the w_coeffs(Identity) numpy array as constants for the polynomial funtion/equation.\n",
    "            ---\n",
    "            No return value.\n",
    "            ---\n",
    "        '''\n",
    "        for i in range(self.degreesOfPercision):\n",
    "            # Calls the coefficients_to_vector function and stores the return value inside the w vector.\n",
    "            # This function loops through all the values in the Identity vector and uses those values as constants for the polynomial function/equation.\n",
    "            self.w_vectors[i] = self.__coefficients_to_vector__(self.Identity[i])\n",
    "    \n",
    "    def calculate_y_Vectors_and_coeffs(self):\n",
    "        '''\n",
    "            Calculate the orthogonal vectors and coefficients using the Gram-Schmidt Orthogonalization Process and stores\n",
    "            the answers into their appropriate numpy array.\n",
    "            ---\n",
    "            No return value\n",
    "            ---\n",
    "        '''\n",
    "        for i in range(self.degreesOfPercision):\n",
    "            # Initializes the vectors to i-th value from the w_vectors and w_coeffs(Identity) for calculation\n",
    "            answer_Vector = np.array(self.w_vectors[i], dtype = float) \n",
    "            answer_coef = np.array(self.Identity[i], dtype = float)\n",
    "            for j in range(i):\n",
    "                # Gram-Schmidt Othogonalization formula\n",
    "                answer_Vector -= np.array(((self.w_vectors[i] @ self.y_vectors[j])/(self.y_vectors[j] @ self.y_vectors[j])) * self.y_vectors[j], dtype = float)\n",
    "                answer_coef -= np.array(((self.w_vectors[i] @ self.y_vectors[j])/(self.y_vectors[j] @ self.y_vectors[j])) * self.y_coef[j], dtype = float)\n",
    "            # Appends the tabulated answer numpy vectors to the main orthogonal vectors and coefficients numpy array\n",
    "            self.y_vectors[i] = np.array(answer_Vector, dtype = float)\n",
    "            self.y_coef[i] = np.array(answer_coef, dtype = float) \n",
    "    \n",
    "    def calculate_ProjCoeff(self):\n",
    "        '''\n",
    "            Calculates the projection coefficients and stores that data into a numpy array.\n",
    "            ---\n",
    "            No return value.\n",
    "            ---\n",
    "        '''\n",
    "        for i in range(self.degreesOfPercision):\n",
    "            self.projCoef += ((self.actualData @ self.y_vectors[i])/(self.y_vectors[i] @ self.y_vectors[i])) * self.y_coef[i]\n",
    "        \n",
    "    def runFull(self):\n",
    "        '''\n",
    "            The main function that runs all the other calculation related function. There is no calculation done in this function.\n",
    "            All the functions called in order so that the next functions tabulates correctly and have access to the necessary values.\n",
    "            ---\n",
    "            No return value.\n",
    "            ---\n",
    "        '''\n",
    "        self.calculate_W_Vectors()\n",
    "        self.calculate_y_Vectors_and_coeffs()\n",
    "        self.calculate_ProjCoeff()\n",
    "        self.__plotGraph__() # Plots the graph\n",
    "        \n",
    "    def __plotGraph__(self):\n",
    "        '''\n",
    "            Plots the data using the matplotlib.pyplot module.\n",
    "            Plot both the X and Y Values from the dataset as well the Least squares approximation line.\n",
    "            ---\n",
    "            No return value.\n",
    "            ---\n",
    "        '''\n",
    "        plt.figure(figsize=(7,7)) # Scales up the plot\n",
    "        # Plots the x and y values from the dataset\n",
    "        plt.xlabel(self.xlabel)\n",
    "        plt.ylabel(self.ylabel)\n",
    "        plt.title(\"{} vs. {}\".format(self.xlabel, self.ylabel))\n",
    "        actual, = plt.plot(self.xValues, self.actualData, linestyle = \"\", marker = \"o\", label = \"Actual Data\")\n",
    "        # Plots the least squares approximation line\n",
    "        x = np.linspace(self.xValues[0], self.xValues[-1])\n",
    "        y = np.array([self.__function__(self.projCoef, i) for i in x])\n",
    "        predicted, = plt.plot(x, y, label = \"Least squares Approx (deg {})\".format(self.degreesOfPercision))\n",
    "        legend = plt.legend(handles=[actual, predicted]) # Adds a legend.\n",
    "        plt.show()"
   ]
  },
  {
   "cell_type": "code",
   "execution_count": 19,
   "metadata": {},
   "outputs": [],
   "source": [
    "test = MyProgram(5, df['Year'], df[\"NYC Consumption(Million gallons per day)\"] * 365, \"Year\", \"NYC Consumption\")"
   ]
  },
  {
   "cell_type": "code",
   "execution_count": 20,
   "metadata": {},
   "outputs": [
    {
     "data": {
      "image/png": "[encoded data removed]",
      "text/plain": [
       "<Figure size 504x504 with 1 Axes>"
      ]
     },
     "metadata": {
      "needs_background": "light"
     },
     "output_type": "display_data"
    }
   ],
   "source": [
    "test.runFull()"
   ]
  },
  {
   "cell_type": "code",
   "execution_count": 21,
   "metadata": {},
   "outputs": [],
   "source": [
    "n = MyProgram(5, df['Year'], df[\"New York City Population\"], \"Year\", \"NYC Population\")"
   ]
  },
  {
   "cell_type": "code",
   "execution_count": 22,
   "metadata": {},
   "outputs": [
    {
     "data": {
      "image/png": "[encoded data removed]",
      "text/plain": [
       "<Figure size 504x504 with 1 Axes>"
      ]
     },
     "metadata": {
      "needs_background": "light"
     },
     "output_type": "display_data"
    }
   ],
   "source": [
    "n.runFull()"
   ]
  },
  {
   "cell_type": "markdown",
   "metadata": {},
   "source": [
    "## Conclusion"
   ]
  },
  {
   "cell_type": "markdown",
   "metadata": {},
   "source": [
    "<p style=\"text-align: justify\">I did accomplish all the goals I set out to accomplish in the Goals section. I did create a class called 'MyProgram' that generalizes the least squares approximation to a certain degree of polynomial. In addition, we were also able to showcase that given any dataset and any degree of polynomial we were able to come up with a least square approximation for that dataset and plot the information. Additionally, after we did the least squares approximation for both the year vs. population and year vs. consumption, there was an interesting trend to be noticed. As the population of NYC increased from 1979 to 2019, the total water consumption in NYC decreased which is quite interesting as one might expect it is to increase because more people are consuming water. The exact reason for this is inconclusive based on this particular data as it fails to take into account how water was allocated drinking, cooking, showering, etc. If such data was provided we could try to narrow our results further and find the reason. My hypothesis is that fewer people take longer showers or baths and or not take them twice a day. Althought the results main cause is inconclusive, the trend we notice is still interesting and worth looking into.<p> "
   ]
  },
  {
   "cell_type": "markdown",
   "metadata": {},
   "source": [
    "## Citations"
   ]
  },
  {
   "cell_type": "markdown",
   "metadata": {},
   "source": [
    "1. *NYC Open Data* [Website Link](https://data.cityofnewyork.us/Environment/Water-Consumption-In-The-New-York-City/ia2d-e54m)\n"
   ]
  },
  {
   "cell_type": "markdown",
   "metadata": {},
   "source": [
    "## Reflection"
   ]
  },
  {
   "cell_type": "markdown",
   "metadata": {},
   "source": [
    "<p style=\"text-align: justify\">I learned a lot of things from this project. To begin with, I learned how to import data using pandas, how to select data from it and do specific calculations with them. Secondly, I learned how to write classes in python which is something very useful not just in this class but in all my other CS classes as it is a core part of the 4 concepts of Object Oriented Programming. This project also re-enforced math concepts I learned in classes like Linear Algebra and make it much more visual and see the concepts in action on a real dataset. In the future, I would try to use more data such as the water consumption in each borough of the city and try to create more beautiful visualizations making use of seaborn and other python modules. In addition, I will try to test a much more stronger hypothesis and take into account other external factors which was not accounted for in this project.</p>"
   ]
  }
 ],
 "metadata": {
  "kernelspec": {
   "display_name": "Python 3 (ipykernel)",
   "language": "python",
   "name": "python3"
  },
  "language_info": {
   "codemirror_mode": {
    "name": "ipython",
    "version": 3
   },
   "file_extension": ".py",
   "mimetype": "text/x-python",
   "name": "python",
   "nbconvert_exporter": "python",
   "pygments_lexer": "ipython3",
   "version": "3.10.4"
  }
 },
 "nbformat": 4,
 "nbformat_minor": 4
}
